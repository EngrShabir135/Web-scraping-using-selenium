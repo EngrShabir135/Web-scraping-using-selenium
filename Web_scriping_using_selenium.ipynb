{
 "cells": [
  {
   "cell_type": "code",
   "execution_count": 1,
   "id": "c89b0c0b",
   "metadata": {},
   "outputs": [],
   "source": [
    "import requests\n",
    "from bs4 import BeautifulSoup\n",
    "from selenium import webdriver\n",
    "import pandas as pd"
   ]
  },
  {
   "cell_type": "code",
   "execution_count": 2,
   "id": "30cc5ce8",
   "metadata": {},
   "outputs": [],
   "source": [
    "url=\"https://www.daraz.pk/laptops/\""
   ]
  },
  {
   "cell_type": "code",
   "execution_count": 3,
   "id": "58339094",
   "metadata": {},
   "outputs": [],
   "source": [
    "req=requests.get(url)"
   ]
  },
  {
   "cell_type": "code",
   "execution_count": 4,
   "id": "84f42ca3",
   "metadata": {},
   "outputs": [
    {
     "name": "stdout",
     "output_type": "stream",
     "text": [
      "<Response [200]>\n"
     ]
    }
   ],
   "source": [
    "print(req)"
   ]
  },
  {
   "cell_type": "code",
   "execution_count": 13,
   "id": "5c254d66",
   "metadata": {},
   "outputs": [],
   "source": [
    "driver=webdriver.Chrome()\n",
    "driver.get(url)"
   ]
  },
  {
   "cell_type": "code",
   "execution_count": 14,
   "id": "f8f12461",
   "metadata": {},
   "outputs": [],
   "source": [
    "soup=BeautifulSoup(driver.page_source,'html.parser')"
   ]
  },
  {
   "cell_type": "code",
   "execution_count": 17,
   "id": "77f2f6c7",
   "metadata": {},
   "outputs": [],
   "source": [
    "title=soup.find(\"div\",{\"class\":\"RfADt\"}).text.strip()"
   ]
  },
  {
   "cell_type": "code",
   "execution_count": 18,
   "id": "edfa9f22",
   "metadata": {},
   "outputs": [
    {
     "data": {
      "text/plain": [
       "'Samsung Chromebook 500C - Celeron processor - 2gb Ram - 16GB SSD - 11.6\" screen - Playstore supported'"
      ]
     },
     "execution_count": 18,
     "metadata": {},
     "output_type": "execute_result"
    }
   ],
   "source": [
    "title"
   ]
  },
  {
   "cell_type": "code",
   "execution_count": 19,
   "id": "662ee957",
   "metadata": {},
   "outputs": [],
   "source": [
    "title=[]\n",
    "for tit in soup.find_all(\"div\",{\"class\":\"RfADt\"}):\n",
    "    name=tit.get_text(strip=True)\n",
    "    title.append(name)"
   ]
  },
  {
   "cell_type": "code",
   "execution_count": 21,
   "id": "37f118a3",
   "metadata": {},
   "outputs": [
    {
     "data": {
      "text/plain": [
       "40"
      ]
     },
     "execution_count": 21,
     "metadata": {},
     "output_type": "execute_result"
    }
   ],
   "source": [
    "len(title)"
   ]
  },
  {
   "cell_type": "code",
   "execution_count": 22,
   "id": "c2ebab40",
   "metadata": {},
   "outputs": [],
   "source": [
    "Price=[]\n",
    "for pr in soup.find_all(\"span\",{\"class\":\"ooOxS\"}):\n",
    "    price=pr.get_text(strip=True)\n",
    "    Price.append(price)"
   ]
  },
  {
   "cell_type": "code",
   "execution_count": 24,
   "id": "5e7baabe",
   "metadata": {},
   "outputs": [
    {
     "data": {
      "text/plain": [
       "40"
      ]
     },
     "execution_count": 24,
     "metadata": {},
     "output_type": "execute_result"
    }
   ],
   "source": [
    "len(Price)"
   ]
  },
  {
   "cell_type": "code",
   "execution_count": 25,
   "id": "ad0ca43c",
   "metadata": {},
   "outputs": [],
   "source": [
    "data={\"Names\":title,\n",
    "     \"Price\":Price}"
   ]
  },
  {
   "cell_type": "code",
   "execution_count": 26,
   "id": "a3b78126",
   "metadata": {},
   "outputs": [],
   "source": [
    "df=pd.DataFrame(data=data)"
   ]
  },
  {
   "cell_type": "code",
   "execution_count": 27,
   "id": "30995c74",
   "metadata": {},
   "outputs": [
    {
     "data": {
      "text/html": [
       "<div>\n",
       "<style scoped>\n",
       "    .dataframe tbody tr th:only-of-type {\n",
       "        vertical-align: middle;\n",
       "    }\n",
       "\n",
       "    .dataframe tbody tr th {\n",
       "        vertical-align: top;\n",
       "    }\n",
       "\n",
       "    .dataframe thead th {\n",
       "        text-align: right;\n",
       "    }\n",
       "</style>\n",
       "<table border=\"1\" class=\"dataframe\">\n",
       "  <thead>\n",
       "    <tr style=\"text-align: right;\">\n",
       "      <th></th>\n",
       "      <th>Names</th>\n",
       "      <th>Price</th>\n",
       "    </tr>\n",
       "  </thead>\n",
       "  <tbody>\n",
       "    <tr>\n",
       "      <th>0</th>\n",
       "      <td>Samsung Chromebook 500C - Celeron processor - ...</td>\n",
       "      <td>Rs. 7,700</td>\n",
       "    </tr>\n",
       "    <tr>\n",
       "      <th>1</th>\n",
       "      <td>Toshiba Portégé Z30-A-13E i5-4200U Notebook 33...</td>\n",
       "      <td>Rs. 32,999</td>\n",
       "    </tr>\n",
       "    <tr>\n",
       "      <th>2</th>\n",
       "      <td>Samsung Chromebook 500C | 2GB RAM DDR3L | 16GB...</td>\n",
       "      <td>Rs. 7,500</td>\n",
       "    </tr>\n",
       "    <tr>\n",
       "      <th>3</th>\n",
       "      <td>Dell Latitude D620 Core 2 Duo 2.4GHz, 2GB RAM,...</td>\n",
       "      <td>Rs. 14,000</td>\n",
       "    </tr>\n",
       "    <tr>\n",
       "      <th>4</th>\n",
       "      <td>Acer C738T | Touch Screen Laptop | 32GB Storag...</td>\n",
       "      <td>Rs. 21,500</td>\n",
       "    </tr>\n",
       "  </tbody>\n",
       "</table>\n",
       "</div>"
      ],
      "text/plain": [
       "                                               Names       Price\n",
       "0  Samsung Chromebook 500C - Celeron processor - ...   Rs. 7,700\n",
       "1  Toshiba Portégé Z30-A-13E i5-4200U Notebook 33...  Rs. 32,999\n",
       "2  Samsung Chromebook 500C | 2GB RAM DDR3L | 16GB...   Rs. 7,500\n",
       "3  Dell Latitude D620 Core 2 Duo 2.4GHz, 2GB RAM,...  Rs. 14,000\n",
       "4  Acer C738T | Touch Screen Laptop | 32GB Storag...  Rs. 21,500"
      ]
     },
     "execution_count": 27,
     "metadata": {},
     "output_type": "execute_result"
    }
   ],
   "source": [
    "df.head()"
   ]
  },
  {
   "cell_type": "code",
   "execution_count": 28,
   "id": "97482589",
   "metadata": {},
   "outputs": [],
   "source": [
    "df.to_csv(\"Laptop.csv\")"
   ]
  },
  {
   "cell_type": "code",
   "execution_count": null,
   "id": "d16aacce",
   "metadata": {},
   "outputs": [],
   "source": []
  }
 ],
 "metadata": {
  "kernelspec": {
   "display_name": "Python 3 (ipykernel)",
   "language": "python",
   "name": "python3"
  },
  "language_info": {
   "codemirror_mode": {
    "name": "ipython",
    "version": 3
   },
   "file_extension": ".py",
   "mimetype": "text/x-python",
   "name": "python",
   "nbconvert_exporter": "python",
   "pygments_lexer": "ipython3",
   "version": "3.9.13"
  }
 },
 "nbformat": 4,
 "nbformat_minor": 5
}
